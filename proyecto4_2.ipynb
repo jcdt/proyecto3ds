{
  "nbformat": 4,
  "nbformat_minor": 0,
  "metadata": {
    "colab": {
      "name": "proyecto4 (1).ipynb",
      "provenance": [],
      "collapsed_sections": [
        "-khWDIlhazrR"
      ]
    },
    "kernelspec": {
      "name": "python3",
      "display_name": "Python 3"
    },
    "language_info": {
      "name": "python"
    }
  },
  "cells": [
    {
      "cell_type": "markdown",
      "metadata": {
        "id": "hU-XjH0X7gb9"
      },
      "source": [
        "\n",
        "# Objetivo\n",
        "Se aplicara el modelo de red neuronal(neural network) en el proyecto 1 donde se aplico los algoritmos de arboles de decision y vecinos cercanos para predecir el precio de las propiedades, a fin de mejorar la precision de la prediccion de precios.\n",
        "\n",
        "# Metodologia\n",
        "Se analizara y podara los datos con mas altos valores como se identifico en el sprint 1 despues se procedera a implementara el algoritmo de neural network de la libreria Keras.\n",
        "\n",
        "Se compilara el argoritmo de red neuronal iterativamente para obtener una mejor precision en la prediccion del precio de las propiedades.\n",
        "\n",
        "#Hipotesis\n",
        "Mientras mas iteraciones tenga el modelo se vuelve mas preciso, esto se vera reflejado en la disminucion del Error Cuadratico Medio(MSE).\n",
        "\n",
        "#Desarrollo\n",
        "1. Se importara la librerias necesarias para la realizacion del proyecto asi como el dataset utilizado en el primer proyecto Properati.csv.\n",
        "2. Se realizara el analisis de los datos y filtrado de datos como se hizo en el proyecto 1 de manera que solo queden los datos optimos para realizar la prediccion\n",
        "3. Se implementara el algoritmo de red neuronal con los datos seleccionados."
      ]
    },
    {
      "cell_type": "markdown",
      "metadata": {
        "id": "Xy-VJrx2aecA"
      },
      "source": [
        "#Desarrollo"
      ]
    },
    {
      "cell_type": "markdown",
      "metadata": {
        "id": "-khWDIlhazrR"
      },
      "source": [
        "## 1 importacion de librerias y dataset."
      ]
    },
    {
      "cell_type": "code",
      "metadata": {
        "id": "ST7A5FAQ3Zu1"
      },
      "source": [
        "import pandas as pd\n",
        "import tensorflow as tf\n",
        "from tensorflow import keras\n",
        "from keras.models import Sequential\n",
        "from keras.layers import Dense\n",
        "from keras.wrappers.scikit_learn import KerasRegressor\n",
        "from sklearn.model_selection import cross_val_score\n",
        "from sklearn.model_selection import KFold\n",
        "from sklearn.preprocessing import StandardScaler\n",
        "from sklearn.pipeline import Pipeline\n",
        "from sklearn.model_selection import train_test_split\n",
        "from sklearn.preprocessing import MinMaxScaler\n",
        "import numpy as np\n",
        "import matplotlib as plt\n",
        "import matplotlib.pyplot as plt"
      ],
      "execution_count": 1,
      "outputs": []
    },
    {
      "cell_type": "code",
      "metadata": {
        "colab": {
          "base_uri": "https://localhost:8080/"
        },
        "id": "ZQKq3wGj3gD0",
        "outputId": "0307ec83-a77f-4858-fb91-bd621142ee8a"
      },
      "source": [
        "  \n",
        "from google.colab import drive\n",
        "drive.mount('/content/drive')\n",
        "\n",
        "data_csv = pd.read_csv('/content/drive/MyDrive/Colab Notebooks/DS_Proyecto_01_Datos_Properati.csv')\n",
        "data = pd.DataFrame(data_csv)\n",
        "print(data.shape)\n"
      ],
      "execution_count": 2,
      "outputs": [
        {
          "output_type": "stream",
          "name": "stdout",
          "text": [
            "Mounted at /content/drive\n",
            "(146660, 19)\n"
          ]
        }
      ]
    },
    {
      "cell_type": "code",
      "metadata": {
        "id": "GN24uKqy3_hW"
      },
      "source": [
        "dataset = data.values\n"
      ],
      "execution_count": null,
      "outputs": []
    },
    {
      "cell_type": "code",
      "metadata": {
        "colab": {
          "base_uri": "https://localhost:8080/",
          "height": 408
        },
        "id": "KrqWK6UL4cLT",
        "outputId": "5f717c09-f8b2-4bb2-c089-a8f537c2fc84"
      },
      "source": [
        "data.head()\n"
      ],
      "execution_count": 3,
      "outputs": [
        {
          "output_type": "execute_result",
          "data": {
            "text/html": [
              "<div>\n",
              "<style scoped>\n",
              "    .dataframe tbody tr th:only-of-type {\n",
              "        vertical-align: middle;\n",
              "    }\n",
              "\n",
              "    .dataframe tbody tr th {\n",
              "        vertical-align: top;\n",
              "    }\n",
              "\n",
              "    .dataframe thead th {\n",
              "        text-align: right;\n",
              "    }\n",
              "</style>\n",
              "<table border=\"1\" class=\"dataframe\">\n",
              "  <thead>\n",
              "    <tr style=\"text-align: right;\">\n",
              "      <th></th>\n",
              "      <th>start_date</th>\n",
              "      <th>end_date</th>\n",
              "      <th>created_on</th>\n",
              "      <th>lat</th>\n",
              "      <th>lon</th>\n",
              "      <th>l1</th>\n",
              "      <th>l2</th>\n",
              "      <th>l3</th>\n",
              "      <th>rooms</th>\n",
              "      <th>bedrooms</th>\n",
              "      <th>bathrooms</th>\n",
              "      <th>surface_total</th>\n",
              "      <th>surface_covered</th>\n",
              "      <th>price</th>\n",
              "      <th>currency</th>\n",
              "      <th>title</th>\n",
              "      <th>description</th>\n",
              "      <th>property_type</th>\n",
              "      <th>operation_type</th>\n",
              "    </tr>\n",
              "  </thead>\n",
              "  <tbody>\n",
              "    <tr>\n",
              "      <th>0</th>\n",
              "      <td>2019-10-17</td>\n",
              "      <td>2019-12-23</td>\n",
              "      <td>2019-10-17</td>\n",
              "      <td>-34.605880</td>\n",
              "      <td>-58.384949</td>\n",
              "      <td>Argentina</td>\n",
              "      <td>Capital Federal</td>\n",
              "      <td>San Cristobal</td>\n",
              "      <td>7.0</td>\n",
              "      <td>7.0</td>\n",
              "      <td>2.0</td>\n",
              "      <td>140.0</td>\n",
              "      <td>140.0</td>\n",
              "      <td>153000.0</td>\n",
              "      <td>USD</td>\n",
              "      <td>***Venta semipiso centro, ideal hostel*****</td>\n",
              "      <td>DESCRIPCION DE LA PROPIEDAD: Departamento de 1...</td>\n",
              "      <td>Departamento</td>\n",
              "      <td>Venta</td>\n",
              "    </tr>\n",
              "    <tr>\n",
              "      <th>1</th>\n",
              "      <td>2019-10-17</td>\n",
              "      <td>2019-11-21</td>\n",
              "      <td>2019-10-17</td>\n",
              "      <td>-34.624056</td>\n",
              "      <td>-58.412110</td>\n",
              "      <td>Argentina</td>\n",
              "      <td>Capital Federal</td>\n",
              "      <td>Boedo</td>\n",
              "      <td>2.0</td>\n",
              "      <td>1.0</td>\n",
              "      <td>2.0</td>\n",
              "      <td>70.0</td>\n",
              "      <td>58.0</td>\n",
              "      <td>159000.0</td>\n",
              "      <td>USD</td>\n",
              "      <td>Espectacular PH reciclado en Boedo sin expensas.</td>\n",
              "      <td>PH reciclado en Boedo a una cuadra de la plaz...</td>\n",
              "      <td>PH</td>\n",
              "      <td>Venta</td>\n",
              "    </tr>\n",
              "    <tr>\n",
              "      <th>2</th>\n",
              "      <td>2019-10-17</td>\n",
              "      <td>2019-11-01</td>\n",
              "      <td>2019-10-17</td>\n",
              "      <td>-34.593569</td>\n",
              "      <td>-58.427474</td>\n",
              "      <td>Argentina</td>\n",
              "      <td>Capital Federal</td>\n",
              "      <td>Palermo</td>\n",
              "      <td>2.0</td>\n",
              "      <td>1.0</td>\n",
              "      <td>1.0</td>\n",
              "      <td>45.0</td>\n",
              "      <td>45.0</td>\n",
              "      <td>125000.0</td>\n",
              "      <td>USD</td>\n",
              "      <td>Depto.tipo casa de 2 ambientes en Venta en Pal...</td>\n",
              "      <td>2 ambienets amplio , excelente estado , patio ...</td>\n",
              "      <td>PH</td>\n",
              "      <td>Venta</td>\n",
              "    </tr>\n",
              "    <tr>\n",
              "      <th>3</th>\n",
              "      <td>2019-10-17</td>\n",
              "      <td>2019-12-23</td>\n",
              "      <td>2019-10-17</td>\n",
              "      <td>-34.581294</td>\n",
              "      <td>-58.436754</td>\n",
              "      <td>Argentina</td>\n",
              "      <td>Capital Federal</td>\n",
              "      <td>Palermo</td>\n",
              "      <td>2.0</td>\n",
              "      <td>1.0</td>\n",
              "      <td>1.0</td>\n",
              "      <td>85.0</td>\n",
              "      <td>50.0</td>\n",
              "      <td>295000.0</td>\n",
              "      <td>USD</td>\n",
              "      <td>COSTA RICA 5800 / PALERMO HOLLYWOOD / VENTA PH...</td>\n",
              "      <td>HERMOSO PH EN PALERMO!!!2 AMBIENTES TOTALMENTE...</td>\n",
              "      <td>PH</td>\n",
              "      <td>Venta</td>\n",
              "    </tr>\n",
              "    <tr>\n",
              "      <th>4</th>\n",
              "      <td>2019-10-17</td>\n",
              "      <td>2020-03-11</td>\n",
              "      <td>2019-10-17</td>\n",
              "      <td>-34.914194</td>\n",
              "      <td>-57.938219</td>\n",
              "      <td>Argentina</td>\n",
              "      <td>Bs.As. G.B.A. Zona Sur</td>\n",
              "      <td>La Plata</td>\n",
              "      <td>2.0</td>\n",
              "      <td>1.0</td>\n",
              "      <td>1.0</td>\n",
              "      <td>50.0</td>\n",
              "      <td>35.0</td>\n",
              "      <td>40000.0</td>\n",
              "      <td>USD</td>\n",
              "      <td>58 entre 1 y 2  Venta de departamento en ph.1 ...</td>\n",
              "      <td>58 entre 1 y 2  Venta de departamento en PH. P...</td>\n",
              "      <td>PH</td>\n",
              "      <td>Venta</td>\n",
              "    </tr>\n",
              "  </tbody>\n",
              "</table>\n",
              "</div>"
            ],
            "text/plain": [
              "   start_date    end_date  ... property_type  operation_type\n",
              "0  2019-10-17  2019-12-23  ...  Departamento           Venta\n",
              "1  2019-10-17  2019-11-21  ...            PH           Venta\n",
              "2  2019-10-17  2019-11-01  ...            PH           Venta\n",
              "3  2019-10-17  2019-12-23  ...            PH           Venta\n",
              "4  2019-10-17  2020-03-11  ...            PH           Venta\n",
              "\n",
              "[5 rows x 19 columns]"
            ]
          },
          "metadata": {},
          "execution_count": 3
        }
      ]
    },
    {
      "cell_type": "markdown",
      "metadata": {
        "id": "RFrx8Zxo4aa0"
      },
      "source": [
        "#2. Analisis y filtrado de datos"
      ]
    },
    {
      "cell_type": "markdown",
      "metadata": {
        "id": "WsQEhxb7ew6W"
      },
      "source": [
        "El dataset cuenta con 19 columnas las cuales fueron analizadas al detalle en el proyecto 1, en donde se elimino los datos atipicos y se determino que las variables que mas influyen con el `precio` son `surface_total` y `surface_covered`."
      ]
    },
    {
      "cell_type": "markdown",
      "metadata": {
        "id": "uYCN6O5wrWaY"
      },
      "source": [
        ""
      ]
    },
    {
      "cell_type": "code",
      "metadata": {
        "colab": {
          "base_uri": "https://localhost:8080/",
          "height": 867
        },
        "id": "GqLcwk-6rYJH",
        "outputId": "0e7ceb27-409d-477c-fe8a-46355add558e"
      },
      "source": [
        "#Creamo la mascara\n",
        "mask_ML_1 = np.logical_or(data.property_type == \"Departamento\",data.property_type == \"Casa\")\n",
        "sub_mask_ML_1 = np.logical_or(data.property_type == \"PH\",mask_ML_1)\n",
        "#Filtramos los datos por Departamento, Casa o PH\n",
        "data_filter_ML_1 = data[sub_mask_ML_1]\n",
        "#Filtramos solo los datos de Capital federal\n",
        "data_filter_ML_1 = data_filter_ML_1[data_filter_ML_1.l2 == 'Capital Federal']\n",
        "\n",
        "mask_ML_2 = np.logical_and(data_filter_ML_1.surface_total <=1000, data_filter_ML_1.surface_total >=15)\n",
        "data_filter_ML_2 = data_filter_ML_1[mask_ML_2]\n",
        "#Filtramos los datos de price menores a 4000000\n",
        "data_filter_ML_2= data_filter_ML_2[data_filter_ML_2.price <=4000000]\n",
        "#Eliminamos las columnas que no usaremos\n",
        "data_filter_ML_2.drop(columns = {'start_date','end_date', 'created_on', 'lat', 'lon', 'l1', 'l2', 'l3','currency','title','description', 'property_type', 'operation_type'}, inplace = True)\n",
        "#Eliminamos los valores nulos\n",
        "data_filter_ML_2 = data_filter_ML_2.dropna()\n",
        "\n",
        "mask_surface_lowest_ML = data_filter_ML_2.surface_covered >data_filter_ML_2.surface_total\n",
        "\n",
        "#surface_temp = data_filter_ML_2.copy()\n",
        "data_filter_ML_2.loc[mask_surface_lowest_ML,'surface_covered']= data_filter_ML_2.loc[mask_surface_lowest_ML,'surface_total']\n",
        "\n",
        "import seaborn as sns\n",
        "corr = data_filter_ML_2.corr()\n",
        "\n",
        "plt.figure(figsize=(15,15))\n",
        "sns.heatmap(corr,cbar=True, square = True, annot=True, fmt= '.2f',annot_kws={'size': 15},\n",
        "           cmap= 'coolwarm')"
      ],
      "execution_count": 8,
      "outputs": [
        {
          "output_type": "execute_result",
          "data": {
            "text/plain": [
              "<matplotlib.axes._subplots.AxesSubplot at 0x7f275da7e850>"
            ]
          },
          "metadata": {},
          "execution_count": 8
        },
        {
          "output_type": "display_data",
          "data": {
            "image/png": "[encoded data removed]",
            "text/plain": [
              "<Figure size 1080x1080 with 2 Axes>"
            ]
          },
          "metadata": {
            "needs_background": "light"
          }
        }
      ]
    },
    {
      "cell_type": "markdown",
      "metadata": {
        "id": "94LI6IJXrnX8"
      },
      "source": [
        "# 3. Implementacion"
      ]
    },
    {
      "cell_type": "markdown",
      "metadata": {
        "id": "bZxORXQF4rVR"
      },
      "source": [
        "El modelo escogido es neural network. para realizar  predicciones basandas en informacion existente.\n",
        "\n",
        "La red neuronal consiste de diversas partes, entre las que se encuentran:\n",
        "* **imput layers**: son las capas que toman inputs basadas en informacion previa existente\n",
        "* **Hidden layers**: Son las capaz que usan retropropagacion para optimizar los pesos de las variables input, con el objetivo de mejorar el poder predictivo del modelo\n",
        "* **Output layers**: Son las predicciones que se obtienen basandas en informacion del input y hiden layers.\n",
        "\n",
        "La cantidad de epochs es la cantidad de veces que se entreno el modelo en el sentido adelante- atras, en el que se crea un ciclo a traves de todo el set de entrenamiento. Con el objetivo de que las perdidas decrezcan y el nivel del modelo mejore por cada pasada. De esta manera el modelo va a predecir el valor de Y de forma mas acertada por cada pasada. En este modelo particular, la cantidad de pasadas que se realizan son 20. Como se observa a medida que corren los epochs, el error disminuye hasta llegar al epoch 19, que comienza a subir nuevamente. \n",
        "\n",
        "La funcion matematica que se utiliza para procesar la informacion en el hidden layer es el metodo de activacion RELU (REctified Linear Unit), que determina si la informacion obtenida en el imput layer va a pasar a la proxima etapa llamada output layer.\n"
      ]
    },
    {
      "cell_type": "code",
      "metadata": {
        "colab": {
          "base_uri": "https://localhost:8080/"
        },
        "id": "VYi1jEyu5RUf",
        "outputId": "a26f0b89-2634-4706-95c8-9ed13dd916aa"
      },
      "source": [
        "X = data_filter_ML_2[[\"surface_covered\", \"surface_total\"]]\n",
        "Y = data_filter_ML_2[\"price\"]\n",
        "\n",
        "train_x, test_x, train_y, test_y = train_test_split(X, Y, test_size = 0.33, random_state=42)\n",
        "model = Sequential()\n",
        "model.add(Dense(512, input_dim = train_x.shape[1], kernel_initializer = \"normal\", activation=\"relu\"))\n",
        "model.add(Dense(512, kernel_initializer = \"normal\", activation=\"relu\"))\n",
        "model.add(Dense(1, kernel_initializer = \"normal\", activation = \"linear\"))\n",
        "\n",
        "model.compile(loss=\"mean_absolute_error\", optimizer=\"adam\", metrics=\"mean_absolute_error\")\n",
        "history = model.fit(train_x, train_y, epochs=20, validation_split = 0.1)\n"
      ],
      "execution_count": 16,
      "outputs": [
        {
          "output_type": "stream",
          "name": "stdout",
          "text": [
            "Epoch 1/20\n",
            "1527/1527 [==============================] - 7s 4ms/step - loss: 101450.5156 - mean_absolute_error: 101450.5156 - val_loss: 88634.2031 - val_mean_absolute_error: 88634.2031\n",
            "Epoch 2/20\n",
            "1527/1527 [==============================] - 6s 4ms/step - loss: 86543.6953 - mean_absolute_error: 86543.6953 - val_loss: 87655.6719 - val_mean_absolute_error: 87655.6719\n",
            "Epoch 3/20\n",
            "1527/1527 [==============================] - 6s 4ms/step - loss: 86000.1094 - mean_absolute_error: 86000.1094 - val_loss: 87692.1016 - val_mean_absolute_error: 87692.1016\n",
            "Epoch 4/20\n",
            "1527/1527 [==============================] - 6s 4ms/step - loss: 85825.0859 - mean_absolute_error: 85825.0859 - val_loss: 87379.1016 - val_mean_absolute_error: 87379.1016\n",
            "Epoch 5/20\n",
            "1527/1527 [==============================] - 6s 4ms/step - loss: 85802.6562 - mean_absolute_error: 85802.6562 - val_loss: 87529.3906 - val_mean_absolute_error: 87529.3906\n",
            "Epoch 6/20\n",
            "1527/1527 [==============================] - 11s 7ms/step - loss: 85780.4688 - mean_absolute_error: 85780.4688 - val_loss: 87378.5938 - val_mean_absolute_error: 87378.5938\n",
            "Epoch 7/20\n",
            "1527/1527 [==============================] - 10s 6ms/step - loss: 85737.5391 - mean_absolute_error: 85737.5391 - val_loss: 87491.8672 - val_mean_absolute_error: 87491.8672\n",
            "Epoch 8/20\n",
            "1527/1527 [==============================] - 10s 6ms/step - loss: 85813.7578 - mean_absolute_error: 85813.7578 - val_loss: 87376.5000 - val_mean_absolute_error: 87376.5000\n",
            "Epoch 9/20\n",
            "1527/1527 [==============================] - 10s 6ms/step - loss: 85792.6328 - mean_absolute_error: 85792.6328 - val_loss: 87621.7656 - val_mean_absolute_error: 87621.7656\n",
            "Epoch 10/20\n",
            "1527/1527 [==============================] - 12s 8ms/step - loss: 85819.4453 - mean_absolute_error: 85819.4453 - val_loss: 87376.0312 - val_mean_absolute_error: 87376.0312\n",
            "Epoch 11/20\n",
            "1527/1527 [==============================] - 14s 9ms/step - loss: 85753.5078 - mean_absolute_error: 85753.5078 - val_loss: 87374.9844 - val_mean_absolute_error: 87374.9844\n",
            "Epoch 12/20\n",
            "1527/1527 [==============================] - 14s 9ms/step - loss: 85809.3828 - mean_absolute_error: 85809.3828 - val_loss: 87373.8906 - val_mean_absolute_error: 87373.8906\n",
            "Epoch 13/20\n",
            "1527/1527 [==============================] - 13s 9ms/step - loss: 85800.3359 - mean_absolute_error: 85800.3359 - val_loss: 87435.4844 - val_mean_absolute_error: 87435.4844\n",
            "Epoch 14/20\n",
            "1527/1527 [==============================] - 14s 9ms/step - loss: 85764.3828 - mean_absolute_error: 85764.3828 - val_loss: 87391.9766 - val_mean_absolute_error: 87391.9766\n",
            "Epoch 15/20\n",
            "1527/1527 [==============================] - 13s 9ms/step - loss: 85790.0703 - mean_absolute_error: 85790.0703 - val_loss: 87508.9375 - val_mean_absolute_error: 87508.9375\n",
            "Epoch 16/20\n",
            "1527/1527 [==============================] - 13s 9ms/step - loss: 85795.8984 - mean_absolute_error: 85795.8984 - val_loss: 88423.0000 - val_mean_absolute_error: 88423.0000\n",
            "Epoch 17/20\n",
            "1527/1527 [==============================] - 14s 9ms/step - loss: 85772.6328 - mean_absolute_error: 85772.6328 - val_loss: 88732.9609 - val_mean_absolute_error: 88732.9609\n",
            "Epoch 18/20\n",
            "1527/1527 [==============================] - 13s 9ms/step - loss: 85818.2734 - mean_absolute_error: 85818.2734 - val_loss: 87372.9766 - val_mean_absolute_error: 87372.9766\n",
            "Epoch 19/20\n",
            "1527/1527 [==============================] - 14s 9ms/step - loss: 85816.6797 - mean_absolute_error: 85816.6797 - val_loss: 87375.5625 - val_mean_absolute_error: 87375.5625\n",
            "Epoch 20/20\n",
            "1527/1527 [==============================] - 14s 9ms/step - loss: 85790.6406 - mean_absolute_error: 85790.6406 - val_loss: 87383.0859 - val_mean_absolute_error: 87383.0859\n"
          ]
        }
      ]
    },
    {
      "cell_type": "markdown",
      "metadata": {
        "id": "ZxEI2eoO5wmu"
      },
      "source": [
        "Lo que se obtiene a medida que se realizan las 20 iteraciones (epochs), es la perdida (loss) arrojada por el set de entrenamiento y la perdida (val_loss) aplicada por el set de prueba. A media que se realizan iteraciones esta perdida disminuye, asi como tambien lo hace el MAE.\n"
      ]
    },
    {
      "cell_type": "code",
      "metadata": {
        "colab": {
          "base_uri": "https://localhost:8080/",
          "height": 312
        },
        "id": "5u9qh0d051VN",
        "outputId": "7508c078-a41b-485a-f4a2-e3a2449454fb"
      },
      "source": [
        "print(history.history.keys())\n",
        "# \"Loss\"\n",
        "#print(history.history['loss'])\n",
        "plt.plot(history.history['loss'])\n",
        "plt.plot(history.history['val_loss'])\n",
        "plt.title('model loss')\n",
        "plt.ylabel('loss')\n",
        "plt.xlabel('epoch')\n",
        "plt.legend(['train', 'validation'], loc='upper left')\n",
        "plt.show()\n"
      ],
      "execution_count": 20,
      "outputs": [
        {
          "output_type": "stream",
          "name": "stdout",
          "text": [
            "dict_keys(['loss', 'mean_absolute_error', 'val_loss', 'val_mean_absolute_error'])\n"
          ]
        },
        {
          "output_type": "display_data",
          "data": {
            "image/png": "[encoded data removed]",
            "text/plain": [
              "<Figure size 432x288 with 1 Axes>"
            ]
          },
          "metadata": {
            "needs_background": "light"
          }
        }
      ]
    },
    {
      "cell_type": "markdown",
      "metadata": {
        "id": "O_ucXb1c56Tf"
      },
      "source": [
        "El proceso para crear el modelo neural network, es en primer lugar, instalar las librerias necesarias. \n",
        "Dentro de las librerias que utilizamos\n",
        "* Keras, que es una libreria de codigo abierta que se utiliza para redes neuronales, que funciona como interfaz de la libreria tensorflow. \n",
        "* Tensorflow por su parte es la mayor plataforma de aprendizaje automatico y la elegida para este modelo.\n",
        "\n",
        "El resto de los recursos son los mismos que en las entregas anteriores, es decir sklearn, numpy, python, matplotlib, etc.\n",
        "\n",
        "Luego, se realiza un test train split de los datos, se crean las capas de input, hidden y output, y se realiza el fit del modelo. \n",
        "\n",
        "El modelo de red neuronal, lo que va a hacer es intentar minimizar el valor de perdida o \"loss\", que representa la diferencia entre lo que el modelo predce y la realidad.  Esto se realiza mediante las iteraciones. En este caso, por ser de regresion el valor que va a intentar disminuir es el valor de MAE. \n",
        "Como se puede ver en el grafico, la diferencia o la perdida va disminuyendo por lo que el modelo va realizando predicciones mas acertadas a lo que realmente sucede.\n",
        "\n",
        "Si bien la cantidad de epochs se detiene en 20 por el poder de procesador de la maquina, esta podria continuar para obtener un menor error absoluto medio (MAE), y un modelo mas preciso.\n",
        "\n",
        "> Repositorio github de proyectos: https://github.com/jcdt/proyecto3ds\n"
      ]
    }
  ]
}